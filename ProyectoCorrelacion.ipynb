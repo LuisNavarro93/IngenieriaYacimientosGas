{
 "cells": [
  {
   "cell_type": "code",
   "execution_count": 9,
   "metadata": {},
   "outputs": [],
   "source": [
    "%config IPCompleter.greedy=True\n",
    "import numpy as np\n",
    "import matplotlib.pyplot as plt\n",
    "import math"
   ]
  },
  {
   "cell_type": "markdown",
   "metadata": {},
   "source": [
    "# Proyecto correlacion\n",
    "## Equipo 40 \n",
    "(Luis Antonio Dominguez Alejo, Luis Enrique Navarro Morales,Hugo Cesar Mondragon Basurto & Eric Javier Trejo Rodriguez)\n",
    "- Factor de compresibilidad isotermico\n",
    "$$ c_{g} = \\frac{1}{p}-\\frac{1}{z}(\\frac{\\delta{z}}{\\delta{p}})$$ \n",
    "$$ c_g*p_{pc} = c_{pr} = \\frac{1}{p_{pr}}-\t[ \\,\\frac{1}{z^2T_{pr}}(\\frac{\\frac{\\delta{z}}{\\delta{\\rho_{pr}}}}{1+((\\frac{\\rho_{pr}}{z})(\\frac{\\delta{z}}{\\delta{\\rho_{pr}}}))})\t] \\, $$\n",
    "- Factor de desviacion a partir de `DPR`o `DAK`\n",
    "$$\"DPR\" :z=1+(A_1+\\frac{A_2}{T_{sr}}+\\frac{A_3}{T_{sr}^3})\\rho_r+(A_4+\\frac{A_5}{T_{sr}})\\rho_r^2+(\\frac{A_5A_6\\rho_r^5}{T_{sr}})+A_7(1+A_8\\rho_r^2)(\\frac{\\rho_r^2}{T_{sr}^3})(exp(-A_8\\rho_r^2)) $$\n",
    "$$ \"DAK\" :z = 1+(A_1+\\frac{A_2}{T_{sr}}+\\frac{A_3}{T_{sr}^3}+\\frac{A_4}{T_{sr}^4}+\\frac{A_5}{T_{sr}^5})\\rho_r+(A_6+\\frac{A_7}{T_{sr}}+\\frac{A_8}{T_{sr}^2})\\rho_r^2-A_9(\\frac{A_7}{T_{sr}}+\\frac{A_8}{T_{sr}^2})\\rho_r^5 + A_{10}(1+A_{11}\\rho_r^2)(\\frac{\\rho_r^2}{T_{sr}^3})(exp(-A_{11}\\rho_r^2) $$ \n",
    "- Factor de volumen de gas\n",
    "$$ B_g = \\frac{\\frac{nzRT}{p}}{\\frac{nz_eRT_e}{P_e}} $$"
   ]
  },
  {
   "cell_type": "markdown",
   "metadata": {},
   "source": [
    "## DPR"
   ]
  },
  {
   "cell_type": "code",
   "execution_count": 2,
   "metadata": {},
   "outputs": [],
   "source": [
    "def z_DPR(p_pr,t_pr,tol = 1e-13):\n",
    "    \n",
    "    A1 = 0.31506237\n",
    "    A2 = -1.0467099\n",
    "    A3 = -0.57832720\n",
    "    A4 =  0.53530771\n",
    "    A5 = -0.61232032\n",
    "    A6 = -0.10488813\n",
    "    A7 = 0.68157001\n",
    "    A8 = 0.68446549\n",
    "    \n",
    "    T1 = A1 + A2 / t_pr + A3 / t_pr**3\n",
    "    T2 = A4 + A5 / t_pr\n",
    "    T3 = A5 * A6 / t_pr\n",
    "    T4 = A7 / t_pr**3\n",
    "    T5 = 0.27 * p_pr / t_pr\n",
    "    \n",
    "     \n",
    "    def  f(rho_r):\n",
    "        f = 1 + T1*rho_r + T2 * rho_r**2 + T3 * rho_r**5 + (T4 * rho_r**2 * (1 + A8 * rho_r**2)) * np.exp(-A8 * rho_r**2) - T5 / rho_r\n",
    "        return f\n",
    "    \n",
    "    def f_prima(rho_r):\n",
    "        f_prima = T1 + 2 * T2 * rho_r + 5 * T3 * rho_r**4 + 2 * T4 * rho_r * np.exp(-A8 * rho_r**2) * ((1 + 2 * A8 * rho_r**2) - A8 * rho_r**2 * (1 + A8 * rho_r**2)) + T5 / rho_r**2\n",
    "        return f_prima \n",
    "    \n",
    "    rho_r0 =  0.27 * p_pr / t_pr \n",
    "    rho_rk = rho_r0\n",
    "    i = -1\n",
    "    while True:\n",
    "        if (abs(f(rho_rk)) < tol):\n",
    "            break \n",
    "        \n",
    "        rho_rk1 = rho_rk - f(rho_rk) / f_prima(rho_rk)\n",
    "        delta = abs(rho_rk-rho_rk1)\n",
    "        \n",
    "        if (delta < tol):\n",
    "            break \n",
    "        else:\n",
    "            rho_rk = rho_rk1\n",
    "            i = i+1\n",
    "    z = 0.27 * p_pr / (rho_rk * t_pr)\n",
    "    print(rho_rk)\n",
    "    return z, rho_rk"
   ]
  },
  {
   "cell_type": "code",
   "execution_count": 3,
   "metadata": {},
   "outputs": [
    {
     "name": "stdout",
     "output_type": "stream",
     "text": [
      "¿Cual es la presion pseudoreducida?\n",
      "5.3\n",
      "¿Cual es la temperatura pseudoreducida?\n",
      "1.34\n"
     ]
    }
   ],
   "source": [
    "p_pr = float(input(\"¿Cual es la presion pseudoreducida?\\n\"))\n",
    "t_pr = float(input(\"¿Cual es la temperatura pseudoreducida?\\n\"))"
   ]
  },
  {
   "cell_type": "code",
   "execution_count": 4,
   "metadata": {},
   "outputs": [
    {
     "name": "stdout",
     "output_type": "stream",
     "text": [
      "1.4005119858525445\n"
     ]
    }
   ],
   "source": [
    "z1 = z_DPR(p_pr,t_pr)\n",
    "rho_r = z1[1]\n",
    "z = z1[0]"
   ]
  },
  {
   "cell_type": "code",
   "execution_count": 5,
   "metadata": {},
   "outputs": [
    {
     "data": {
      "text/plain": [
       "0.7625143222970109"
      ]
     },
     "execution_count": 5,
     "metadata": {},
     "output_type": "execute_result"
    }
   ],
   "source": [
    "z"
   ]
  },
  {
   "cell_type": "code",
   "execution_count": 6,
   "metadata": {},
   "outputs": [
    {
     "name": "stdout",
     "output_type": "stream",
     "text": [
      "El factor de desviacon:\n",
      " z= 0.7625143222970109\n",
      "\n",
      "La densidad reducida es:\n",
      " rho_r= 1.4005119858525445\n"
     ]
    }
   ],
   "source": [
    "print(\"El factor de desviacon:\\n z=\",z1[0])\n",
    "print(\"\\nLa densidad reducida es:\\n rho_r=\",z1[1])"
   ]
  },
  {
   "cell_type": "markdown",
   "metadata": {},
   "source": [
    "## DAK"
   ]
  },
  {
   "cell_type": "code",
   "execution_count": 10,
   "metadata": {},
   "outputs": [],
   "source": [
    "def z_DAK(p_pr,t_pr):\n",
    "    \n",
    "    e = 1e-15\n",
    "    i = 0 \n",
    "      \n",
    "    rho_r = (0.27*p_pr)/t_pr\n",
    "\n",
    "    while True:\n",
    "        A1 = 0.3265 ; A2 = -1.0700 ; A3 = -0.5339 ;  A4 = 0.01569 ; A5 = -0.05165\n",
    "        A6 = 0.5475 ; A7 = -0.7361 ; A8 = 0.1844 ; A9 = 0.1056 ; A10 = 0.6134  ; A11 = 0.7210\n",
    "        R1 = A1 + A2/t_pr + A3/t_pr**3 + A4/t_pr**4 + A5/t_pr**5\n",
    "        R2 = (0.27*p_pr)/t_pr\n",
    "        R3 = A6 + A7/t_pr + A8/t_pr**2 \n",
    "        R4 = A9*(A7/t_pr+A8/t_pr**2)\n",
    "        R5 = A10 / t_pr**3\n",
    "        f = R1*rho_r - R2/rho_r + R3*rho_r**2 - R4*rho_r**5 + A10*(1+A11*rho_r**2)*((rho_r**2)/(t_pr**3))*math.exp(-A11*rho_r)\n",
    "        f_prima = R1+R2/rho_r**2 + 2*R3*rho_r - 5*(R4)*rho_r**4 + 2*(R5)*rho_r*math.exp(-A11*rho_r)*((1+2*A11*rho_r**3)-A11*rho_r**2*(1+A11*rho_r**2))\n",
    "        rho_n = rho_r -f/f_prima\n",
    "        error = abs(rho_n-rho_r)\n",
    "        if error < e:\n",
    "            break\n",
    "            \n",
    "        rho_r = rho_n\n",
    "        print(\"iteracion=\",i,\"\\nerror=\",error,\"\\nrho:\",rho_r)\n",
    "        i = i+1\n",
    "        z = (0.27*p_pr)/(rho_r*t_pr)\n",
    "        \n",
    "    return (z,rho_r)"
   ]
  },
  {
   "cell_type": "code",
   "execution_count": 11,
   "metadata": {},
   "outputs": [
    {
     "name": "stdout",
     "output_type": "stream",
     "text": [
      "iteracion= 0 \n",
      "error= 1.2308248845466767 \n",
      "rho: 2.2987353323078707\n",
      "iteracion= 1 \n",
      "error= 0.41254824724267425 \n",
      "rho: 1.8861870850651965\n",
      "iteracion= 2 \n",
      "error= 0.12757625594693223 \n",
      "rho: 1.7586108291182643\n",
      "iteracion= 3 \n",
      "error= 0.00678394129671811 \n",
      "rho: 1.7653947704149824\n",
      "iteracion= 4 \n",
      "error= 0.0011685282162530175 \n",
      "rho: 1.7642262421987294\n",
      "iteracion= 5 \n",
      "error= 0.00019422760330711775 \n",
      "rho: 1.7644204698020365\n",
      "iteracion= 6 \n",
      "error= 3.24861665004228e-05 \n",
      "rho: 1.764387983635536\n",
      "iteracion= 7 \n",
      "error= 5.427952042946771e-06 \n",
      "rho: 1.764393411587579\n",
      "iteracion= 8 \n",
      "error= 9.070867852400966e-07 \n",
      "rho: 1.7643925045007938\n",
      "iteracion= 9 \n",
      "error= 1.5158251120972466e-07 \n",
      "rho: 1.764392656083305\n",
      "iteracion= 10 \n",
      "error= 2.5330948894008998e-08 \n",
      "rho: 1.764392630752356\n",
      "iteracion= 11 \n",
      "error= 4.233050798774229e-09 \n",
      "rho: 1.7643926349854069\n",
      "iteracion= 12 \n",
      "error= 7.073845953442515e-10 \n",
      "rho: 1.7643926342780223\n",
      "iteracion= 13 \n",
      "error= 1.1821099654696354e-10 \n",
      "rho: 1.7643926343962333\n",
      "iteracion= 14 \n",
      "error= 1.9754420321760335e-11 \n",
      "rho: 1.7643926343764789\n",
      "iteracion= 15 \n",
      "error= 3.3013591860253655e-12 \n",
      "rho: 1.7643926343797802\n",
      "iteracion= 16 \n",
      "error= 5.517808432387028e-13 \n",
      "rho: 1.7643926343792284\n",
      "iteracion= 17 \n",
      "error= 9.214851104388799e-14 \n",
      "rho: 1.7643926343793206\n",
      "iteracion= 18 \n",
      "error= 1.532107773982716e-14 \n",
      "rho: 1.7643926343793053\n",
      "iteracion= 19 \n",
      "error= 2.4424906541753444e-15 \n",
      "rho: 1.7643926343793077\n"
     ]
    }
   ],
   "source": [
    "df=z_DAK(p_pr,t_pr)\n",
    "z11 = df[0]\n",
    "rho_r1 = df[1]"
   ]
  },
  {
   "cell_type": "code",
   "execution_count": 12,
   "metadata": {},
   "outputs": [
    {
     "name": "stdout",
     "output_type": "stream",
     "text": [
      "El factor de desviacon:\n",
      " z= 0.6052566911428261\n",
      "\n",
      "La densidad reducida es:\n",
      " rho_r= 1.7643926343793077\n"
     ]
    }
   ],
   "source": [
    "print(\"El factor de desviacon:\\n z=\",z11)\n",
    "print(\"\\nLa densidad reducida es:\\n rho_r=\",rho_r1)"
   ]
  },
  {
   "cell_type": "markdown",
   "metadata": {},
   "source": [
    "## Factor de compresibilidad isotermico\n",
    "`Mattar, Brar & Aziz`"
   ]
  },
  {
   "cell_type": "code",
   "execution_count": 13,
   "metadata": {},
   "outputs": [],
   "source": [
    "def cg(p_pr,t_pr,z,rho_r,p_pc):\n",
    "    \n",
    "    A1 = 0.31506237\n",
    "    A2 = -1.0467099\n",
    "    A3 = -0.57832720\n",
    "    A4 =  0.53530771\n",
    "    A5 = -0.61232032\n",
    "    A6 = -0.10488813\n",
    "    A7 = 0.68157001\n",
    "    A8 = 0.68446549\n",
    "    \n",
    "    dz_drho = A1 + A2/t_pr + A3/t_pr**3 + 2*(A4 + A5/t_pr)*rho_r + 5*A5*A6*(rho_r**4/t_pr) + (((2*A7*rho_r)/(t_pr**3))*(1+A8*rho_r**2-(A8*rho_r**2)**2)*np.exp(-A8*rho_r**2))\n",
    "    \n",
    "    c_r = 1/p_pr - (0.27/(z**2*t_pr))*((dz_drho)/(1+(rho_r/z)*(dz_drho)))\n",
    "    \n",
    "    c_g = c_r/p_pc\n",
    "    \n",
    "    return c_g    "
   ]
  },
  {
   "cell_type": "code",
   "execution_count": 14,
   "metadata": {},
   "outputs": [
    {
     "name": "stdout",
     "output_type": "stream",
     "text": [
      "¿Cual es la presion pseudocritica?\n",
      "680\n"
     ]
    }
   ],
   "source": [
    "p_pc = float(input(\"¿Cual es la presion pseudocritica?\\n\" ))"
   ]
  },
  {
   "cell_type": "code",
   "execution_count": 15,
   "metadata": {},
   "outputs": [],
   "source": [
    "#cg(5.60,1.35,0.78970,1.41826,680)\n",
    "c_g = cg(p_pr,t_pr,z,rho_r,p_pc)"
   ]
  },
  {
   "cell_type": "code",
   "execution_count": 16,
   "metadata": {},
   "outputs": [
    {
     "name": "stdout",
     "output_type": "stream",
     "text": [
      "La compresibilidad isotermica del gas:\n",
      " C_g= 138.41754913156208 x10^(-6) [psi^-1]\n"
     ]
    }
   ],
   "source": [
    "c_g1 = c_g*10**6\n",
    "print(\"La compresibilidad isotermica del gas:\\n C_g=\",c_g1,\"x10^(-6) [psi^-1]\")"
   ]
  },
  {
   "cell_type": "markdown",
   "metadata": {},
   "source": [
    "## Factor volumetrico de gas"
   ]
  },
  {
   "cell_type": "code",
   "execution_count": 17,
   "metadata": {},
   "outputs": [],
   "source": [
    "def B_g(z,T,p):\n",
    "    Bg = 0.02827*((z*T)/(p))\n",
    "    return Bg"
   ]
  },
  {
   "cell_type": "code",
   "execution_count": 18,
   "metadata": {},
   "outputs": [
    {
     "name": "stdout",
     "output_type": "stream",
     "text": [
      "¿Cual es la presion?\n",
      "3810\n",
      "¿Cual es la temperatura?\n",
      "654\n"
     ]
    }
   ],
   "source": [
    "p = float(input(\"¿Cual es la presion?\\n\"))\n",
    "T = float(input(\"¿Cual es la temperatura?\\n\"))"
   ]
  },
  {
   "cell_type": "code",
   "execution_count": 19,
   "metadata": {},
   "outputs": [],
   "source": [
    "Bg=B_g(z,T,p)"
   ]
  },
  {
   "cell_type": "code",
   "execution_count": 20,
   "metadata": {},
   "outputs": [
    {
     "name": "stdout",
     "output_type": "stream",
     "text": [
      "EL factor volumetrico del gas:\n",
      " Bg= 0.0037002118238672094 [PCE/PCY]\n"
     ]
    }
   ],
   "source": [
    "print(\"EL factor volumetrico del gas:\\n Bg=\",Bg,\"[PCE/PCY]\")"
   ]
  },
  {
   "cell_type": "code",
   "execution_count": null,
   "metadata": {},
   "outputs": [],
   "source": []
  }
 ],
 "metadata": {
  "kernelspec": {
   "display_name": "Python 3",
   "language": "python",
   "name": "python3"
  },
  "language_info": {
   "codemirror_mode": {
    "name": "ipython",
    "version": 3
   },
   "file_extension": ".py",
   "mimetype": "text/x-python",
   "name": "python",
   "nbconvert_exporter": "python",
   "pygments_lexer": "ipython3",
   "version": "3.7.6"
  }
 },
 "nbformat": 4,
 "nbformat_minor": 4
}
